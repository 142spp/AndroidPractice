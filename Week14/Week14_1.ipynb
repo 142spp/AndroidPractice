{
 "cells": [
  {
   "cell_type": "code",
   "execution_count": 6,
   "metadata": {},
   "outputs": [],
   "source": [
    "from PIL import Image\n",
    "from tqdm import tqdm\n",
    "import binascii\n",
    "import glob\n",
    "import os\n",
    "\n",
    "import numpy as np\n",
    "\n",
    "from keras_preprocessing.image.utils import img_to_array\n",
    "\n",
    "dataCnt = 0\n",
    "dataNum = 9000\n",
    "width = 100\n",
    "height =100\n",
    "channels = 3\n",
    "dataset =np.zeros(shape=(dataNum,height,width,channels),dtype=np.float32)"
   ]
  },
  {
   "cell_type": "code",
   "execution_count": 11,
   "metadata": {},
   "outputs": [],
   "source": [
    "def main():\n",
    "    global dataCnt\n",
    "    malware_path='./bytes'\n",
    "    malware_categories = os.listdir(malware_path+'/') # bin file load\n",
    "\n",
    "    dataCnt = 0\n",
    "    cnt = 0\n",
    "\n",
    "    for malware_family in tqdm(malware_categories):\n",
    "        malware_files = glob.glob(malware_path+'/'+malware_family+'/*.txt')\n",
    "        for malware_file in tqdm(malware_files):\n",
    "            if not malware_file :\n",
    "                continue\n",
    "            try:\n",
    "                f = open(malware_file,'r')\n",
    "                code = f.readlines()\n",
    "                one_line = ''\n",
    "                for line in code:\n",
    "                    line = line.replace(\"+\",\"\")\n",
    "                    line = line.replace(\"\\n\",\"\")\n",
    "                    \n",
    "                    if len(line) != 2:\n",
    "                        print(str(len(line))+\"### \"+line)\n",
    "                    one_line = one_line + line\n",
    "                BinarySrcCode = binascii.unhexlify(one_line)\n",
    "                code_len = len(BinarySrcCode)\n",
    "                padLen = width*height*3 - code_len\n",
    "\n",
    "                if code_len == 0 :\n",
    "                    continue\n",
    "                if padLen < 0 :\n",
    "                    print(\"file is over\")\n",
    "                    cnt += 1\n",
    "                    continue\n",
    "\n",
    "                zeroPad = bytes(padLen)\n",
    "                image = bytearray(BinarySrcCode) + bytes(zeroPad)\n",
    "                img = Image.frombytes(\"RGB\",(height,width),bytes(list(image)))\n",
    "                img.save(\"./malware_images/\"+malware_family+\"/\"+malware_file[17:-4]+\".PNG\",'PNG')\n",
    "                dataCnt += 1\n",
    "\n",
    "            except Exception as ex:\n",
    "                print(malware_file)\n",
    "                print(ex)\n",
    "                return\n",
    "        \n",
    "    print(\"num of exceeded sol : \",cnt)\n",
    "    print(\"num of total vul : \",dataCnt)\n",
    "\n",
    "    return\n",
    "\n"
   ]
  },
  {
   "cell_type": "code",
   "execution_count": 16,
   "metadata": {},
   "outputs": [
    {
     "name": "stderr",
     "output_type": "stream",
     "text": [
      "100%|██████████| 388/388 [00:07<00:00, 49.96it/s]\n",
      "100%|██████████| 121/121 [00:01<00:00, 71.36it/s]\n",
      "100%|██████████| 472/472 [00:02<00:00, 195.44it/s]\n",
      "100%|██████████| 439/439 [00:03<00:00, 111.83it/s]\n",
      "100%|██████████| 31/31 [00:00<00:00, 68.88it/s]\n",
      "100%|██████████| 137/137 [00:01<00:00, 98.01it/s]\n",
      "100%|██████████| 323/323 [00:01<00:00, 168.54it/s]\n",
      "100%|██████████| 126/126 [00:02<00:00, 60.10it/s]\n",
      "100%|██████████| 112/112 [00:02<00:00, 44.77it/s]\n",
      "100%|██████████| 9/9 [00:24<00:00,  2.69s/it]"
     ]
    },
    {
     "name": "stdout",
     "output_type": "stream",
     "text": [
      "num of exceeded sol :  0\n",
      "num of total vul :  2149\n"
     ]
    },
    {
     "name": "stderr",
     "output_type": "stream",
     "text": [
      "\n"
     ]
    }
   ],
   "source": [
    "main()"
   ]
  }
 ],
 "metadata": {
  "interpreter": {
   "hash": "0366488d6efbc14725cb57c327a148056cf7e59afd07b8437100a62cca44a013"
  },
  "kernelspec": {
   "display_name": "Python 3.9.12 ('base')",
   "language": "python",
   "name": "python3"
  },
  "language_info": {
   "codemirror_mode": {
    "name": "ipython",
    "version": 3
   },
   "file_extension": ".py",
   "mimetype": "text/x-python",
   "name": "python",
   "nbconvert_exporter": "python",
   "pygments_lexer": "ipython3",
   "version": "3.9.12"
  },
  "orig_nbformat": 4
 },
 "nbformat": 4,
 "nbformat_minor": 2
}
