{
 "cells": [
  {
   "cell_type": "code",
   "execution_count": 5,
   "metadata": {},
   "outputs": [
    {
     "name": "stdout",
     "output_type": "stream",
     "text": [
      "Found 2149 images belonging to 9 classes.\n",
      "Found 426 images belonging to 9 classes.\n"
     ]
    }
   ],
   "source": [
    "from keras_preprocessing.image.image_data_generator import ImageDataGenerator\n",
    "import tensorflow as tf\n",
    "\n",
    "# Create genarator\n",
    "data_dir = './malware_images/'\n",
    "datagen = ImageDataGenerator(rescale=1./255,validation_split=0.2)\n",
    "# Prepare an iterators for each dataset\n",
    "train_it = datagen.flow_from_directory(\n",
    "    data_dir,\n",
    "    class_mode='categorical',\n",
    "    target_size=(100,100),\n",
    "    batch_size=32)\n",
    "\n",
    "val_it = validation_generator = datagen.flow_from_directory(\n",
    "    data_dir, # same directory as training data\n",
    "    target_size=(100,100),\n",
    "    batch_size= 32,\n",
    "    subset = 'validation')\n",
    "\n",
    "cnn_model = tf.keras.models.Sequential([\n",
    "tf.keras.layers.Conv2D(32,(3,3),activation = 'relu' ,input_shape=(100,100,3)),\n",
    "    tf.keras.layers.MaxPooling2D((2,2)),\n",
    "    tf.keras.layers.Conv2D(64,(3,3),activation = 'relu'),\n",
    "    tf.keras.layers.MaxPooling2D((2,2)),\n",
    "    tf.keras.layers.Conv2D(64,(3,3),activation='relu'),\n",
    "    tf.keras.layers.Flatten(),\n",
    "    tf.keras.layers.Dense(64,activation='relu'),\n",
    "    tf.keras.layers.Dense(9,activation='softmax')])\n",
    "\n",
    "cnn_model.compile(optimizer = 'adam',\n",
    "                loss='categorical_crossentropy',\n",
    "                metrics=['accuracy'])"
   ]
  },
  {
   "cell_type": "code",
   "execution_count": 6,
   "metadata": {},
   "outputs": [
    {
     "name": "stdout",
     "output_type": "stream",
     "text": [
      "Epoch 1/10\n",
      "68/68 [==============================] - 15s 210ms/step - loss: 1.2818 - accuracy: 0.5361\n",
      "Epoch 2/10\n",
      "68/68 [==============================] - 10s 145ms/step - loss: 0.9609 - accuracy: 0.6436\n",
      "Epoch 3/10\n",
      "68/68 [==============================] - 10s 149ms/step - loss: 0.6184 - accuracy: 0.7953\n",
      "Epoch 4/10\n",
      "68/68 [==============================] - 10s 147ms/step - loss: 0.4269 - accuracy: 0.8669\n",
      "Epoch 5/10\n",
      "68/68 [==============================] - 10s 147ms/step - loss: 0.3128 - accuracy: 0.8953\n",
      "Epoch 6/10\n",
      "68/68 [==============================] - 10s 146ms/step - loss: 0.2457 - accuracy: 0.9167\n",
      "Epoch 7/10\n",
      "68/68 [==============================] - 10s 148ms/step - loss: 0.1579 - accuracy: 0.9483\n",
      "Epoch 8/10\n",
      "68/68 [==============================] - 10s 152ms/step - loss: 0.0823 - accuracy: 0.9800\n",
      "Epoch 9/10\n",
      "68/68 [==============================] - 11s 157ms/step - loss: 0.0889 - accuracy: 0.9749\n",
      "Epoch 10/10\n",
      "68/68 [==============================] - 11s 164ms/step - loss: 0.0446 - accuracy: 0.9888\n",
      "14/14 [==============================] - 1s 37ms/step - loss: 0.0683 - accuracy: 0.9812\n",
      "[0.06826415657997131, 0.9812206625938416]\n"
     ]
    },
    {
     "name": "stderr",
     "output_type": "stream",
     "text": [
      "WARNING:absl:Found untraced functions such as _jit_compiled_convolution_op, _jit_compiled_convolution_op, _jit_compiled_convolution_op while saving (showing 3 of 3). These functions will not be directly callable after loading.\n"
     ]
    },
    {
     "name": "stdout",
     "output_type": "stream",
     "text": [
      "INFO:tensorflow:Assets written to: C:\\Users\\ehdrm\\AppData\\Local\\Temp\\tmp699b9idl\\assets\n"
     ]
    },
    {
     "name": "stderr",
     "output_type": "stream",
     "text": [
      "INFO:tensorflow:Assets written to: C:\\Users\\ehdrm\\AppData\\Local\\Temp\\tmp699b9idl\\assets\n"
     ]
    }
   ],
   "source": [
    "cnn_model.fit(train_it,epochs=10)\n",
    "test_eval_result = cnn_model.evaluate(val_it)\n",
    "print(test_eval_result)\n",
    "\n",
    "converter = tf.lite.TFLiteConverter.from_keras_model(cnn_model)\n",
    "tflite_model = converter.convert()\n",
    "\n",
    "with open('./keras_model_cnn_malware.tflite','wb') as f:\n",
    "    f.write(tflite_model)"
   ]
  }
 ],
 "metadata": {
  "interpreter": {
   "hash": "0366488d6efbc14725cb57c327a148056cf7e59afd07b8437100a62cca44a013"
  },
  "kernelspec": {
   "display_name": "Python 3.9.12 ('base')",
   "language": "python",
   "name": "python3"
  },
  "language_info": {
   "codemirror_mode": {
    "name": "ipython",
    "version": 3
   },
   "file_extension": ".py",
   "mimetype": "text/x-python",
   "name": "python",
   "nbconvert_exporter": "python",
   "pygments_lexer": "ipython3",
   "version": "3.9.12"
  },
  "orig_nbformat": 4
 },
 "nbformat": 4,
 "nbformat_minor": 2
}
